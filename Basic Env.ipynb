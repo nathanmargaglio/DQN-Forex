{
 "cells": [
  {
   "cell_type": "code",
   "execution_count": 2,
   "metadata": {},
   "outputs": [
    {
     "name": "stderr",
     "output_type": "stream",
     "text": [
      "/home/nathan/anaconda3/lib/python3.6/site-packages/h5py/__init__.py:36: FutureWarning: Conversion of the second argument of issubdtype from `float` to `np.floating` is deprecated. In future, it will be treated as `np.float64 == np.dtype(float).type`.\n",
      "  from ._conv import register_converters as _register_converters\n",
      "Using TensorFlow backend.\n"
     ]
    },
    {
     "name": "stdout",
     "output_type": "stream",
     "text": [
      "[name: \"/device:CPU:0\"\n",
      "device_type: \"CPU\"\n",
      "memory_limit: 268435456\n",
      "locality {\n",
      "}\n",
      "incarnation: 10677970854538156483\n",
      ", name: \"/device:GPU:0\"\n",
      "device_type: \"GPU\"\n",
      "memory_limit: 485490688\n",
      "locality {\n",
      "  bus_id: 1\n",
      "  links {\n",
      "  }\n",
      "}\n",
      "incarnation: 18208555497674664323\n",
      "physical_device_desc: \"device: 0, name: GeForce GTX 650, pci bus id: 0000:01:00.0, compute capability: 3.0\"\n",
      "]\n"
     ]
    }
   ],
   "source": [
    "import numpy as np\n",
    "import pandas as pd\n",
    "import os\n",
    "import gym\n",
    "import time\n",
    "import json\n",
    "from copy import deepcopy\n",
    "\n",
    "import keras\n",
    "from keras.models import Sequential, model_from_json\n",
    "from keras.layers import Dense, Activation, Flatten, BatchNormalization, Conv2D, Add\n",
    "from keras.optimizers import Adam\n",
    "from keras.initializers import glorot_uniform\n",
    "from keras.callbacks import History\n",
    "from keras.backend import tf as ktf\n",
    "from keras.callbacks import Callback as KerasCallback, CallbackList as KerasCallbackList\n",
    "from keras.callbacks import EarlyStopping, TensorBoard, CSVLogger\n",
    "from keras.utils.generic_utils import Progbar\n",
    "from keras import backend as K\n",
    "\n",
    "from rl.agents.dqn import DQNAgent\n",
    "from rl.policy import EpsGreedyQPolicy, LinearAnnealedPolicy, Policy\n",
    "from rl.memory import SequentialMemory\n",
    "from rl.core import Processor\n",
    "from rl.callbacks import ModelIntervalCheckpoint, FileLogger\n",
    "\n",
    "from IPython import display\n",
    "from IPython.display import clear_output\n",
    "import matplotlib\n",
    "import matplotlib.pyplot as plt\n",
    "%matplotlib inline\n",
    "\n",
    "%load_ext autoreload\n",
    "%autoreload 2\n",
    "\n",
    "# check our devices\n",
    "from tensorflow.python.client import device_lib\n",
    "print(device_lib.list_local_devices())"
   ]
  },
  {
   "cell_type": "code",
   "execution_count": 23,
   "metadata": {},
   "outputs": [
    {
     "name": "stdout",
     "output_type": "stream",
     "text": [
      "\u001b[33mWARN: gym.spaces.Box autodetected dtype as <class 'numpy.float32'>. Please provide explicit dtype.\u001b[0m\n"
     ]
    }
   ],
   "source": [
    "from gym import error, spaces\n",
    "\n",
    "class Env(object):\n",
    "    reward_range = (-np.inf, np.inf)\n",
    "    action_space = spaces.Discrete(4)\n",
    "    observation_space = spaces.Box(low=-1, high=1, shape=(3,3))\n",
    "\n",
    "    def step(self, action):\n",
    "        self.step_num += 1\n",
    "        done = False\n",
    "        previous_distance = abs(self.pos[0] - 2) + abs(self.pos[1] - 2)\n",
    "        \n",
    "        if action == 0:\n",
    "            # up\n",
    "            self.pos = (max(self.pos[0] - 1, 0), self.pos[1])\n",
    "        if action == 1:\n",
    "            # down\n",
    "            self.pos = (min(self.pos[0] + 1, 2), self.pos[1])\n",
    "        if action == 2:\n",
    "            # left\n",
    "            self.pos = (self.pos[0], max(self.pos[1] - 1, 0))\n",
    "        if action == 3:\n",
    "            # right\n",
    "            self.pos = (self.pos[0], min(self.pos[1] + 1, 2))\n",
    "            \n",
    "        current_distance = abs(self.pos[0] - 2) + abs(self.pos[1] - 2)\n",
    "        \n",
    "        reward = -1.\n",
    "        \n",
    "        if previous_distance < current_distance:\n",
    "            pass#reward = -1.\n",
    "            \n",
    "        if previous_distance > current_distance:\n",
    "            reward = 1.\n",
    "            \n",
    "        if current_distance == 0:\n",
    "            done = True\n",
    "        \n",
    "        self.observation = self.default_view.copy()\n",
    "        self.observation[self.pos] = 0.5\n",
    "        \n",
    "        if self.step_num > 10:\n",
    "            done= True\n",
    "        \n",
    "        return self.observation, reward, done, {}\n",
    "\n",
    "    def reset(self):\n",
    "        self.step_num = 0\n",
    "        self.pos = (0,0)\n",
    "        self.default_view = np.array([\n",
    "            [0., 0., 0.],\n",
    "            [0., 0., 0.],\n",
    "            [0., 0., 1.]\n",
    "        ])\n",
    "        self.observation = self.default_view.copy()\n",
    "        self.observation[self.pos] = 0.5\n",
    "        return self.observation\n",
    "\n",
    "    def render(self, mode='human', close=False):\n",
    "        plt.imshow(self.observation)\n",
    "        plt.show()\n",
    "        \n",
    "    \n",
    "    def close(self):\n",
    "        pass\n",
    "\n",
    "    def seed(self, seed=None):\n",
    "        pass\n",
    "\n",
    "    def configure(self, *args, **kwargs):\n",
    "        raise NotImplementedError()\n",
    "\n",
    "    def __del__(self):\n",
    "        self.close()\n",
    "\n",
    "    def __str__(self):\n",
    "        return '<{} instance>'.format(type(self).__name__)"
   ]
  },
  {
   "cell_type": "code",
   "execution_count": 24,
   "metadata": {},
   "outputs": [],
   "source": [
    "env = Env()\n",
    "nb_actions = env.action_space.n\n",
    "\n",
    "input_shape = (1, 3, 3)\n",
    "\n",
    "frames_input = keras.layers.Input(input_shape, name='frames')\n",
    "\n",
    "flat = keras.layers.Flatten()(frames_input)\n",
    "hidden_1 = keras.layers.Dense(512, activation='relu')(flat)\n",
    "hidden_2 = keras.layers.Dense(512, activation='relu')(hidden_1)\n",
    "output = keras.layers.Dense(nb_actions)(hidden_2)\n",
    "\n",
    "model = keras.models.Model(inputs=frames_input, outputs=output)\n",
    "optimizer = optimizer=keras.optimizers.RMSprop(lr=0.00025, rho=0.95, epsilon=0.01)\n",
    "\n",
    "memory = SequentialMemory(limit=1000, window_length=1)\n",
    "policy = LinearAnnealedPolicy(EpsGreedyQPolicy(), 'eps', 1., 0., 0.0, 1000)\n",
    "dqn = DQNAgent(model=model, nb_actions=nb_actions, memory=memory, nb_steps_warmup=500, \n",
    "               target_model_update=1000, policy=policy, test_policy=policy)\n",
    "dqn.compile(optimizer, metrics=['mse'])"
   ]
  },
  {
   "cell_type": "code",
   "execution_count": 25,
   "metadata": {},
   "outputs": [
    {
     "name": "stdout",
     "output_type": "stream",
     "text": [
      "Training for 5000 steps ...\n",
      "Interval 1 (0 steps performed)\n",
      " 4999/10000 [=============>................] - ETA: 1:03 - reward: 0.8364done, took 63.418 seconds\n"
     ]
    }
   ],
   "source": [
    "# train the DQN\n",
    "env.reset()\n",
    "hist = dqn.fit(env, nb_steps=5000, visualize=False, verbose=1)"
   ]
  },
  {
   "cell_type": "code",
   "execution_count": 26,
   "metadata": {},
   "outputs": [],
   "source": [
    "from rl.callbacks import (\n",
    "    CallbackList,\n",
    "    TestLogger,\n",
    "    TrainEpisodeLogger,\n",
    "    TrainIntervalLogger,\n",
    "    Visualizer\n",
    ")\n",
    "\n",
    "class Visualizer(Visualizer):\n",
    "    def on_episode_begin(self, episode, logs={}):\n",
    "        self.env.render(mode='human')\n",
    "        \n",
    "    def on_action_end(self, action, logs):\n",
    "        \"\"\" Render environment at the end of each action \"\"\"\n",
    "        self.env.render(mode='human')\n",
    "\n",
    "def test(self, env, nb_episodes=1, action_repetition=1, callbacks=None, visualize=True,\n",
    "         nb_max_episode_steps=None, nb_max_start_steps=0, start_step_policy=None, verbose=1):\n",
    "    if not self.compiled:\n",
    "        raise RuntimeError('Your tried to test your agent but it hasn\\'t been compiled yet. Please call `compile()` before `test()`.')\n",
    "    if action_repetition < 1:\n",
    "        raise ValueError('action_repetition must be >= 1, is {}'.format(action_repetition))\n",
    "\n",
    "    self.training = False\n",
    "    self.step = 0\n",
    "\n",
    "    callbacks = [] if not callbacks else callbacks[:]\n",
    "\n",
    "    if verbose >= 1:\n",
    "        callbacks += [TestLogger()]\n",
    "    if visualize:\n",
    "        callbacks += [Visualizer()]\n",
    "    history = History()\n",
    "    callbacks += [history]\n",
    "    callbacks = CallbackList(callbacks)\n",
    "    if hasattr(callbacks, 'set_model'):\n",
    "        callbacks.set_model(self)\n",
    "    else:\n",
    "        callbacks._set_model(self)\n",
    "    callbacks._set_env(env)\n",
    "    params = {\n",
    "        'nb_episodes': nb_episodes,\n",
    "    }\n",
    "    if hasattr(callbacks, 'set_params'):\n",
    "        callbacks.set_params(params)\n",
    "    else:\n",
    "        callbacks._set_params(params)\n",
    "\n",
    "    self._on_test_begin()\n",
    "    callbacks.on_train_begin()\n",
    "    for episode in range(nb_episodes):\n",
    "        callbacks.on_episode_begin(episode)\n",
    "        episode_reward = 0.\n",
    "        episode_step = 0\n",
    "\n",
    "        # Obtain the initial observation by resetting the environment.\n",
    "        self.reset_states()\n",
    "        observation = deepcopy(env.reset())\n",
    "        if self.processor is not None:\n",
    "            observation = self.processor.process_observation(observation)\n",
    "        assert observation is not None\n",
    "\n",
    "        # Perform random starts at beginning of episode and do not record them into the experience.\n",
    "        # This slightly changes the start position between games.\n",
    "        nb_random_start_steps = 0 if nb_max_start_steps == 0 else np.random.randint(nb_max_start_steps)\n",
    "        for _ in range(nb_random_start_steps):\n",
    "            if start_step_policy is None:\n",
    "                action = env.action_space.sample()\n",
    "            else:\n",
    "                action = start_step_policy(observation)\n",
    "            if self.processor is not None:\n",
    "                action = self.processor.process_action(action)\n",
    "            callbacks.on_action_begin(action)\n",
    "            observation, r, done, info = env.step(action)\n",
    "            observation = deepcopy(observation)\n",
    "            if self.processor is not None:\n",
    "                observation, r, done, info = self.processor.process_step(observation, r, done, info)\n",
    "            callbacks.on_action_end(action)\n",
    "            if done:\n",
    "                warnings.warn('Env ended before {} random steps could be performed at the start. You should probably lower the `nb_max_start_steps` parameter.'.format(nb_random_start_steps))\n",
    "                observation = deepcopy(env.reset())\n",
    "                if self.processor is not None:\n",
    "                    observation = self.processor.process_observation(observation)\n",
    "                break\n",
    "\n",
    "        # Run the episode until we're done.\n",
    "        done = False\n",
    "        while not done:\n",
    "            callbacks.on_step_begin(episode_step)\n",
    "\n",
    "            action = self.forward(observation)\n",
    "            q_values = self.compute_q_values(np.array([observation]))\n",
    "            print(\"Q:\", q_values)\n",
    "            if self.processor is not None:\n",
    "                action = self.processor.process_action(action)\n",
    "            reward = 0.\n",
    "            accumulated_info = {}\n",
    "            for _ in range(action_repetition):\n",
    "                callbacks.on_action_begin(action)\n",
    "                observation, r, d, info = env.step(action)\n",
    "                observation = deepcopy(observation)\n",
    "                if self.processor is not None:\n",
    "                    observation, r, d, info = self.processor.process_step(observation, r, d, info)\n",
    "                callbacks.on_action_end(action)\n",
    "                reward += r\n",
    "                for key, value in info.items():\n",
    "                    if not np.isreal(value):\n",
    "                        continue\n",
    "                    if key not in accumulated_info:\n",
    "                        accumulated_info[key] = np.zeros_like(value)\n",
    "                    accumulated_info[key] += value\n",
    "                if d:\n",
    "                    done = True\n",
    "                    break\n",
    "            if nb_max_episode_steps and episode_step >= nb_max_episode_steps - 1:\n",
    "                done = True\n",
    "            self.backward(reward, terminal=done)\n",
    "            episode_reward += reward\n",
    "\n",
    "            step_logs = {\n",
    "                'action': action,\n",
    "                'observation': observation,\n",
    "                'reward': reward,\n",
    "                'episode': episode,\n",
    "                'info': accumulated_info,\n",
    "            }\n",
    "            callbacks.on_step_end(episode_step, step_logs)\n",
    "            episode_step += 1\n",
    "            self.step += 1\n",
    "\n",
    "        # We are in a terminal state but the agent hasn't yet seen it. We therefore\n",
    "        # perform one more forward-backward call and simply ignore the action before\n",
    "        # resetting the environment. We need to pass in `terminal=False` here since\n",
    "        # the *next* state, that is the state of the newly reset environment, is\n",
    "        # always non-terminal by convention.\n",
    "        self.forward(observation)\n",
    "        self.backward(0., terminal=False)\n",
    "\n",
    "        # Report end of episode.\n",
    "        episode_logs = {\n",
    "            'episode_reward': episode_reward,\n",
    "            'nb_steps': episode_step,\n",
    "        }\n",
    "        callbacks.on_episode_end(episode, episode_logs)\n",
    "    callbacks.on_train_end()\n",
    "    self._on_test_end()\n",
    "\n",
    "    return history\n"
   ]
  },
  {
   "cell_type": "code",
   "execution_count": 27,
   "metadata": {
    "scrolled": false
   },
   "outputs": [
    {
     "name": "stdout",
     "output_type": "stream",
     "text": [
      "Testing for 1 episodes ...\n"
     ]
    },
    {
     "data": {
      "image/png": "[encoded data removed]",
      "text/plain": [
       "<matplotlib.figure.Figure at 0x7f36ac90acf8>"
      ]
     },
     "metadata": {},
     "output_type": "display_data"
    },
    {
     "name": "stdout",
     "output_type": "stream",
     "text": [
      "Q: [-0.26789325  2.6096675  -0.32798812  3.7045968 ]\n"
     ]
    },
    {
     "data": {
      "image/png": "[encoded data removed]",
      "text/plain": [
       "<matplotlib.figure.Figure at 0x7f36919d54e0>"
      ]
     },
     "metadata": {},
     "output_type": "display_data"
    },
    {
     "name": "stdout",
     "output_type": "stream",
     "text": [
      "Q: [-0.25252905  3.1903093  -0.32743663  2.5436535 ]\n"
     ]
    },
    {
     "data": {
      "image/png": "[encoded data removed]",
      "text/plain": [
       "<matplotlib.figure.Figure at 0x7f36bc21c588>"
      ]
     },
     "metadata": {},
     "output_type": "display_data"
    },
    {
     "name": "stdout",
     "output_type": "stream",
     "text": [
      "Q: [-0.21702978  1.9802551  -0.2900339   1.9839945 ]\n"
     ]
    },
    {
     "data": {
      "image/png": "[encoded data removed]",
      "text/plain": [
       "<matplotlib.figure.Figure at 0x7f36ac7a20f0>"
      ]
     },
     "metadata": {},
     "output_type": "display_data"
    },
    {
     "name": "stdout",
     "output_type": "stream",
     "text": [
      "Q: [-0.22953087  0.99759996 -0.28926942  0.5862225 ]\n"
     ]
    },
    {
     "data": {
      "image/png": "[encoded data removed]",
      "text/plain": [
       "<matplotlib.figure.Figure at 0x7f36e8030860>"
      ]
     },
     "metadata": {},
     "output_type": "display_data"
    },
    {
     "name": "stdout",
     "output_type": "stream",
     "text": [
      "Episode 1: reward: 4.000, steps: 4\n"
     ]
    },
    {
     "data": {
      "text/plain": [
       "<keras.callbacks.History at 0x7f36ac9ed1d0>"
      ]
     },
     "execution_count": 27,
     "metadata": {},
     "output_type": "execute_result"
    }
   ],
   "source": [
    "# test the DQN\n",
    "env.reset()\n",
    "test(dqn, env, nb_episodes=1, callbacks=[], visualize=True)"
   ]
  },
  {
   "cell_type": "code",
   "execution_count": null,
   "metadata": {},
   "outputs": [],
   "source": []
  }
 ],
 "metadata": {
  "kernelspec": {
   "display_name": "Python 3",
   "language": "python",
   "name": "python3"
  },
  "language_info": {
   "codemirror_mode": {
    "name": "ipython",
    "version": 3
   },
   "file_extension": ".py",
   "mimetype": "text/x-python",
   "name": "python",
   "nbconvert_exporter": "python",
   "pygments_lexer": "ipython3",
   "version": "3.6.4"
  }
 },
 "nbformat": 4,
 "nbformat_minor": 2
}
