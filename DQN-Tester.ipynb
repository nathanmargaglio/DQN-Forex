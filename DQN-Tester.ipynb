{
 "cells": [
  {
   "cell_type": "markdown",
   "metadata": {},
   "source": [
    "# Playing Atari with Deep Reinforcement Learning\n",
    "\n",
    "Paper: https://www.cs.toronto.edu/~vmnih/docs/dqn.pdf\n",
    "\n",
    "Walkthorugh: https://becominghuman.ai/lets-build-an-atari-ai-part-0-intro-to-rl-9b2c5336e0ec"
   ]
  },
  {
   "cell_type": "markdown",
   "metadata": {},
   "source": [
    "# Imports"
   ]
  },
  {
   "cell_type": "code",
   "execution_count": 1,
   "metadata": {
    "scrolled": true
   },
   "outputs": [
    {
     "name": "stderr",
     "output_type": "stream",
     "text": [
      "Using TensorFlow backend.\n"
     ]
    },
    {
     "name": "stdout",
     "output_type": "stream",
     "text": [
      "[name: \"/device:CPU:0\"\n",
      "device_type: \"CPU\"\n",
      "memory_limit: 268435456\n",
      "locality {\n",
      "}\n",
      "incarnation: 16087798094013009520\n",
      "]\n"
     ]
    }
   ],
   "source": [
    "import numpy as np\n",
    "import pandas as pd\n",
    "import os\n",
    "import gym\n",
    "import time\n",
    "import json\n",
    "from copy import deepcopy\n",
    "\n",
    "import keras\n",
    "from keras.models import Sequential, model_from_json\n",
    "from keras.layers import Dense, Activation, Flatten\n",
    "from keras.optimizers import Adam\n",
    "from keras.callbacks import History\n",
    "from keras.backend import tf as ktf\n",
    "from keras.callbacks import Callback as KerasCallback, CallbackList as KerasCallbackList\n",
    "from keras.callbacks import EarlyStopping, TensorBoard, CSVLogger\n",
    "from keras.utils.generic_utils import Progbar\n",
    "from keras.utils.vis_utils import model_to_dot\n",
    "\n",
    "from rl.agents.dqn import DQNAgent\n",
    "from rl.policy import EpsGreedyQPolicy, LinearAnnealedPolicy, Policy\n",
    "from rl.memory import SequentialMemory\n",
    "from rl.core import Processor\n",
    "from rl.callbacks import ModelIntervalCheckpoint, FileLogger\n",
    "\n",
    "from IPython import display\n",
    "from IPython.display import clear_output, SVG\n",
    "import matplotlib\n",
    "import matplotlib.pyplot as plt\n",
    "%matplotlib inline\n",
    "\n",
    "%load_ext autoreload\n",
    "%autoreload 2\n",
    "\n",
    "# check our devices\n",
    "from tensorflow.python.client import device_lib\n",
    "print(device_lib.list_local_devices())\n",
    "\n",
    "class Visualizer(KerasCallback):\n",
    "    def __init__(self, view_machine_mode=False, show_labels=True, save=False):\n",
    "        self.machine_mode = view_machine_mode\n",
    "        self.show_labels = show_labels\n",
    "        self.save = save\n",
    "    \n",
    "    def _set_env(self, env):\n",
    "        self.env = env\n",
    "        self.img = plt.imshow(self.env.render(mode='rgb_array')) # only call this once\n",
    "        self.frame = 0\n",
    "        plt.figure(figsize = (10,10))\n",
    "\n",
    "    def on_action_end(self, action, logs):\n",
    "        \"\"\" Render environment at the end of each action \"\"\"\n",
    "        img = self.env.render(mode='rgb_array')\n",
    "        \n",
    "        if self.machine_mode:\n",
    "            # This lines allow us to see what the NN sees\n",
    "            img = img[::2, ::2] # downscale\n",
    "            img = np.mean(img, axis=2).astype(np.uint8) # grayscale\n",
    "        \n",
    "        self.frame += 1\n",
    "        plt.cla()\n",
    "        plt.imshow(img)\n",
    "        if self.show_labels:\n",
    "            plt.annotate('frame : ' + str(self.frame), xy=(10, 40), color='white')\n",
    "            plt.annotate('action: ' + str(action), xy=(10, 47), color='white')\n",
    "            try:\n",
    "                plt.annotate('reward: ' + str(self.env.current_reward), xy=(10, 54), color='white')\n",
    "            except:\n",
    "                pass\n",
    "            \n",
    "        if not self.save:\n",
    "            display.display(plt.gcf())\n",
    "            display.clear_output(wait=True)\n",
    "        else:\n",
    "            if not os.path.exists('dqn/frames/'):\n",
    "                os.makedirs('dqn/frames')\n",
    "            plt.savefig('dqn/frames/{0:05d}.png'.format(self.frame))\n",
    "        \n",
    "class AtariProcessor(Processor):\n",
    "    def __init__(self, env, recent_length = 32):\n",
    "        self.env = env\n",
    "        self.recent_rewards = []\n",
    "        self.recent_actions = []\n",
    "        self.recent_length = recent_length\n",
    "        self.actions = np.arange(env.action_space.n)\n",
    "        self.new_life = True\n",
    "        self.life = 5\n",
    "        \n",
    "    def process_observation(self, observation):\n",
    "        # Normally, the observation is passed directly to the NN,\n",
    "        # but we override this behavior to follow preprocessing steps\n",
    "        img = observation \n",
    "        img = img[::2, ::2] # downscale\n",
    "        img = np.mean(img, axis=2).astype(np.uint8) # grayscale\n",
    "        return img\n",
    "    \n",
    "    def process_reward(self, reward):\n",
    "        if self.new_life:\n",
    "            reward = -1.\n",
    "        try:\n",
    "            self.env.current_reward += reward\n",
    "        except:\n",
    "            self.env.current_reward = 0\n",
    "            \n",
    "        return reward\n",
    "    \n",
    "    def process_action(self, action):\n",
    "        if self.new_life:\n",
    "            action = 1\n",
    "            self.new_life = False\n",
    "            \n",
    "        return action\n",
    "    \n",
    "    def process_info(self, info):\n",
    "        if info['ale.lives'] != self.life:\n",
    "            self.life = info['ale.lives']\n",
    "            self.new_life = True\n",
    "        return info"
   ]
  },
  {
   "cell_type": "code",
   "execution_count": 12,
   "metadata": {},
   "outputs": [],
   "source": [
    "env = gym.make('BreakoutDeterministic-v4') # try out different envs\n",
    "env.reset()\n",
    "\n",
    "np.random.seed(123)\n",
    "env.seed(123)\n",
    "nb_actions = env.action_space.n"
   ]
  },
  {
   "cell_type": "code",
   "execution_count": 13,
   "metadata": {},
   "outputs": [],
   "source": [
    "with open('dqn/model_architecture.json') as f:\n",
    "    model = model_from_json(f.read())\n",
    "    \n",
    "model.load_weights('dqn/weights.hdf5')\n",
    "optimizer = optimizer=keras.optimizers.RMSprop(lr=0.00025, rho=0.95, epsilon=0.01)"
   ]
  },
  {
   "cell_type": "code",
   "execution_count": 14,
   "metadata": {},
   "outputs": [
    {
     "name": "stdout",
     "output_type": "stream",
     "text": [
      "__________________________________________________________________________________________________\n",
      "Layer (type)                    Output Shape         Param #     Connected to                     \n",
      "==================================================================================================\n",
      "frames (InputLayer)             (None, 4, 105, 80)   0                                            \n",
      "__________________________________________________________________________________________________\n",
      "lambda_1 (Lambda)               (None, 4, 105, 80)   0           frames[0][0]                     \n",
      "__________________________________________________________________________________________________\n",
      "batch_normalization_1 (BatchNor (None, 4, 105, 80)   320         lambda_1[0][0]                   \n",
      "__________________________________________________________________________________________________\n",
      "activation_1 (Activation)       (None, 4, 105, 80)   0           batch_normalization_1[0][0]      \n",
      "__________________________________________________________________________________________________\n",
      "conv1_0 (Conv2D)                (None, 32, 27, 20)   2080        activation_1[0][0]               \n",
      "__________________________________________________________________________________________________\n",
      "x_0 (Conv2D)                    (None, 32, 27, 20)   2080        lambda_1[0][0]                   \n",
      "__________________________________________________________________________________________________\n",
      "residual_0 (Conv2D)             (None, 32, 27, 20)   1056        conv1_0[0][0]                    \n",
      "__________________________________________________________________________________________________\n",
      "add_1 (Add)                     (None, 32, 27, 20)   0           x_0[0][0]                        \n",
      "                                                                 residual_0[0][0]                 \n",
      "__________________________________________________________________________________________________\n",
      "batch_normalization_3 (BatchNor (None, 32, 27, 20)   80          add_1[0][0]                      \n",
      "__________________________________________________________________________________________________\n",
      "activation_3 (Activation)       (None, 32, 27, 20)   0           batch_normalization_3[0][0]      \n",
      "__________________________________________________________________________________________________\n",
      "conv1_1 (Conv2D)                (None, 64, 7, 5)     32832       activation_3[0][0]               \n",
      "__________________________________________________________________________________________________\n",
      "x_1 (Conv2D)                    (None, 64, 7, 5)     32832       add_1[0][0]                      \n",
      "__________________________________________________________________________________________________\n",
      "residual_1 (Conv2D)             (None, 64, 7, 5)     4160        conv1_1[0][0]                    \n",
      "__________________________________________________________________________________________________\n",
      "add_2 (Add)                     (None, 64, 7, 5)     0           x_1[0][0]                        \n",
      "                                                                 residual_1[0][0]                 \n",
      "__________________________________________________________________________________________________\n",
      "batch_normalization_5 (BatchNor (None, 64, 7, 5)     20          add_2[0][0]                      \n",
      "__________________________________________________________________________________________________\n",
      "activation_5 (Activation)       (None, 64, 7, 5)     0           batch_normalization_5[0][0]      \n",
      "__________________________________________________________________________________________________\n",
      "conv1_2 (Conv2D)                (None, 64, 2, 2)     65600       activation_5[0][0]               \n",
      "__________________________________________________________________________________________________\n",
      "x_2 (Conv2D)                    (None, 64, 2, 2)     65600       add_2[0][0]                      \n",
      "__________________________________________________________________________________________________\n",
      "residual_2 (Conv2D)             (None, 64, 2, 2)     4160        conv1_2[0][0]                    \n",
      "__________________________________________________________________________________________________\n",
      "add_3 (Add)                     (None, 64, 2, 2)     0           x_2[0][0]                        \n",
      "                                                                 residual_2[0][0]                 \n",
      "__________________________________________________________________________________________________\n",
      "flatten_1 (Flatten)             (None, 256)          0           add_3[0][0]                      \n",
      "__________________________________________________________________________________________________\n",
      "dense_1 (Dense)                 (None, 512)          131584      flatten_1[0][0]                  \n",
      "__________________________________________________________________________________________________\n",
      "dense_2 (Dense)                 (None, 4)            2052        dense_1[0][0]                    \n",
      "==================================================================================================\n",
      "Total params: 344,456\n",
      "Trainable params: 344,246\n",
      "Non-trainable params: 210\n",
      "__________________________________________________________________________________________________\n"
     ]
    },
    {
     "ename": "ImportError",
     "evalue": "Failed to import `pydot`. Please install `pydot`. For example with `pip install pydot`.",
     "output_type": "error",
     "traceback": [
      "\u001b[0;31m---------------------------------------------------------------------------\u001b[0m",
      "\u001b[0;31mImportError\u001b[0m                               Traceback (most recent call last)",
      "\u001b[0;32m<ipython-input-14-23c72255af2b>\u001b[0m in \u001b[0;36m<module>\u001b[0;34m()\u001b[0m\n\u001b[1;32m      6\u001b[0m \u001b[0;34m\u001b[0m\u001b[0m\n\u001b[1;32m      7\u001b[0m \u001b[0mmodel\u001b[0m\u001b[0;34m.\u001b[0m\u001b[0msummary\u001b[0m\u001b[0;34m(\u001b[0m\u001b[0;34m)\u001b[0m\u001b[0;34m\u001b[0m\u001b[0m\n\u001b[0;32m----> 8\u001b[0;31m \u001b[0mSVG\u001b[0m\u001b[0;34m(\u001b[0m\u001b[0mmodel_to_dot\u001b[0m\u001b[0;34m(\u001b[0m\u001b[0mmodel\u001b[0m\u001b[0;34m,\u001b[0m \u001b[0mshow_layer_names\u001b[0m\u001b[0;34m=\u001b[0m\u001b[0;32mTrue\u001b[0m\u001b[0;34m,\u001b[0m \u001b[0mshow_shapes\u001b[0m\u001b[0;34m=\u001b[0m\u001b[0;32mTrue\u001b[0m\u001b[0;34m,\u001b[0m \u001b[0mrankdir\u001b[0m\u001b[0;34m=\u001b[0m\u001b[0;34m'TB'\u001b[0m\u001b[0;34m)\u001b[0m\u001b[0;34m.\u001b[0m\u001b[0mcreate\u001b[0m\u001b[0;34m(\u001b[0m\u001b[0mprog\u001b[0m\u001b[0;34m=\u001b[0m\u001b[0;34m'dot'\u001b[0m\u001b[0;34m,\u001b[0m \u001b[0mformat\u001b[0m\u001b[0;34m=\u001b[0m\u001b[0;34m'svg'\u001b[0m\u001b[0;34m)\u001b[0m\u001b[0;34m)\u001b[0m\u001b[0;34m\u001b[0m\u001b[0m\n\u001b[0m",
      "\u001b[0;32m~/.local/lib/python3.6/site-packages/keras/utils/vis_utils.py\u001b[0m in \u001b[0;36mmodel_to_dot\u001b[0;34m(model, show_shapes, show_layer_names, rankdir)\u001b[0m\n\u001b[1;32m     53\u001b[0m     \u001b[0;32mfrom\u001b[0m \u001b[0;34m.\u001b[0m\u001b[0;34m.\u001b[0m\u001b[0mmodels\u001b[0m \u001b[0;32mimport\u001b[0m \u001b[0mSequential\u001b[0m\u001b[0;34m\u001b[0m\u001b[0m\n\u001b[1;32m     54\u001b[0m \u001b[0;34m\u001b[0m\u001b[0m\n\u001b[0;32m---> 55\u001b[0;31m     \u001b[0m_check_pydot\u001b[0m\u001b[0;34m(\u001b[0m\u001b[0;34m)\u001b[0m\u001b[0;34m\u001b[0m\u001b[0m\n\u001b[0m\u001b[1;32m     56\u001b[0m     \u001b[0mdot\u001b[0m \u001b[0;34m=\u001b[0m \u001b[0mpydot\u001b[0m\u001b[0;34m.\u001b[0m\u001b[0mDot\u001b[0m\u001b[0;34m(\u001b[0m\u001b[0;34m)\u001b[0m\u001b[0;34m\u001b[0m\u001b[0m\n\u001b[1;32m     57\u001b[0m     \u001b[0mdot\u001b[0m\u001b[0;34m.\u001b[0m\u001b[0mset\u001b[0m\u001b[0;34m(\u001b[0m\u001b[0;34m'rankdir'\u001b[0m\u001b[0;34m,\u001b[0m \u001b[0mrankdir\u001b[0m\u001b[0;34m)\u001b[0m\u001b[0;34m\u001b[0m\u001b[0m\n",
      "\u001b[0;32m~/.local/lib/python3.6/site-packages/keras/utils/vis_utils.py\u001b[0m in \u001b[0;36m_check_pydot\u001b[0;34m()\u001b[0m\n\u001b[1;32m     18\u001b[0m     \u001b[0;32mif\u001b[0m \u001b[0mpydot\u001b[0m \u001b[0;32mis\u001b[0m \u001b[0;32mNone\u001b[0m\u001b[0;34m:\u001b[0m\u001b[0;34m\u001b[0m\u001b[0m\n\u001b[1;32m     19\u001b[0m         raise ImportError(\n\u001b[0;32m---> 20\u001b[0;31m             \u001b[0;34m'Failed to import `pydot`. '\u001b[0m\u001b[0;34m\u001b[0m\u001b[0m\n\u001b[0m\u001b[1;32m     21\u001b[0m             \u001b[0;34m'Please install `pydot`. '\u001b[0m\u001b[0;34m\u001b[0m\u001b[0m\n\u001b[1;32m     22\u001b[0m             'For example with `pip install pydot`.')\n",
      "\u001b[0;31mImportError\u001b[0m: Failed to import `pydot`. Please install `pydot`. For example with `pip install pydot`."
     ]
    }
   ],
   "source": [
    "memory = SequentialMemory(limit=100000, window_length=4)\n",
    "policy = LinearAnnealedPolicy(EpsGreedyQPolicy(), 'eps', 1., 0.1, 0., 100000)\n",
    "dqn = DQNAgent(model=model, processor=AtariProcessor(env), nb_actions=nb_actions, enable_double_dqn=False,\n",
    "               memory=memory, nb_steps_warmup=50, target_model_update=1e-2, policy=policy, test_policy=policy)\n",
    "dqn.compile(optimizer, metrics=['mse'])\n",
    "\n",
    "model.summary()\n",
    "SVG(model_to_dot(model, show_layer_names=True, show_shapes=True, rankdir='TB').create(prog='dot', format='svg'))"
   ]
  },
  {
   "cell_type": "code",
   "execution_count": 15,
   "metadata": {},
   "outputs": [
    {
     "name": "stdout",
     "output_type": "stream",
     "text": [
      "Testing for 1 episodes ...\n",
      "Episode 1: reward: 29.000, steps: 192\n"
     ]
    },
    {
     "data": {
      "image/png": "[encoded data removed]",
      "text/plain": [
       "<Figure size 432x288 with 1 Axes>"
      ]
     },
     "metadata": {},
     "output_type": "display_data"
    },
    {
     "data": {
      "image/png": "[encoded data removed]",
      "text/plain": [
       "<Figure size 720x720 with 1 Axes>"
      ]
     },
     "metadata": {},
     "output_type": "display_data"
    }
   ],
   "source": [
    "callbacks = []\n",
    "callbacks = [Visualizer(save=True)]\n",
    "\n",
    "test_hist = dqn.test(env, nb_episodes=1, action_repetition=4,\n",
    "                     callbacks=callbacks, visualize=False)"
   ]
  },
  {
   "cell_type": "code",
   "execution_count": null,
   "metadata": {},
   "outputs": [],
   "source": []
  }
 ],
 "metadata": {
  "kernelspec": {
   "display_name": "Python 3",
   "language": "python",
   "name": "python3"
  },
  "language_info": {
   "codemirror_mode": {
    "name": "ipython",
    "version": 3
   },
   "file_extension": ".py",
   "mimetype": "text/x-python",
   "name": "python",
   "nbconvert_exporter": "python",
   "pygments_lexer": "ipython3",
   "version": "3.6.4"
  }
 },
 "nbformat": 4,
 "nbformat_minor": 2
}
