{
 "cells": [
  {
   "cell_type": "markdown",
   "metadata": {},
   "source": [
    "# Playing Atari with Deep Reinforcement Learning\n",
    "\n",
    "Paper: https://www.cs.toronto.edu/~vmnih/docs/dqn.pdf\n",
    "\n",
    "Walkthorugh: https://becominghuman.ai/lets-build-an-atari-ai-part-0-intro-to-rl-9b2c5336e0ec"
   ]
  },
  {
   "cell_type": "markdown",
   "metadata": {},
   "source": [
    "# Imports"
   ]
  },
  {
   "cell_type": "code",
   "execution_count": 23,
   "metadata": {
    "scrolled": true
   },
   "outputs": [
    {
     "name": "stdout",
     "output_type": "stream",
     "text": [
      "The autoreload extension is already loaded. To reload it, use:\n",
      "  %reload_ext autoreload\n",
      "[name: \"/device:CPU:0\"\n",
      "device_type: \"CPU\"\n",
      "memory_limit: 268435456\n",
      "locality {\n",
      "}\n",
      "incarnation: 14893908307374997016\n",
      "]\n"
     ]
    }
   ],
   "source": [
    "import numpy as np\n",
    "import pandas as pd\n",
    "import os\n",
    "import gym\n",
    "import time\n",
    "import json\n",
    "from copy import deepcopy\n",
    "\n",
    "import keras\n",
    "from keras.models import Sequential, model_from_json\n",
    "from keras.layers import Dense, Activation, Flatten\n",
    "from keras.optimizers import Adam\n",
    "from keras.callbacks import History\n",
    "from keras.backend import tf as ktf\n",
    "from keras.callbacks import Callback as KerasCallback, CallbackList as KerasCallbackList\n",
    "from keras.callbacks import EarlyStopping, TensorBoard, CSVLogger\n",
    "from keras.utils.generic_utils import Progbar\n",
    "\n",
    "from rl.agents.dqn import DQNAgent\n",
    "from rl.policy import EpsGreedyQPolicy, LinearAnnealedPolicy, Policy\n",
    "from rl.memory import SequentialMemory\n",
    "from rl.core import Processor\n",
    "from rl.callbacks import ModelIntervalCheckpoint, FileLogger\n",
    "\n",
    "from IPython import display\n",
    "from IPython.display import clear_output\n",
    "import matplotlib\n",
    "import matplotlib.pyplot as plt\n",
    "%matplotlib inline\n",
    "\n",
    "%load_ext autoreload\n",
    "%autoreload 2\n",
    "\n",
    "# check our devices\n",
    "from tensorflow.python.client import device_lib\n",
    "print(device_lib.list_local_devices())\n",
    "\n",
    "class Visualizer(KerasCallback):\n",
    "    def __init__(self, view_machine_mode=False, show_labels=True, save=False):\n",
    "        self.machine_mode = view_machine_mode\n",
    "        self.show_labels = show_labels\n",
    "        self.save = save\n",
    "    \n",
    "    def _set_env(self, env):\n",
    "        self.env = env\n",
    "        self.img = plt.imshow(self.env.render(mode='rgb_array')) # only call this once\n",
    "        self.frame = 0\n",
    "        plt.figure(figsize = (10,10))\n",
    "\n",
    "    def on_action_end(self, action, logs):\n",
    "        \"\"\" Render environment at the end of each action \"\"\"\n",
    "        img = self.env.render(mode='rgb_array')\n",
    "        \n",
    "        if self.machine_mode:\n",
    "            # This lines allow us to see what the NN sees\n",
    "            img = img[::2, ::2] # downscale\n",
    "            img = np.mean(img, axis=2).astype(np.uint8) # grayscale\n",
    "        \n",
    "        self.frame += 1\n",
    "        plt.cla()\n",
    "        plt.imshow(img)\n",
    "        if self.show_labels:\n",
    "            plt.annotate('frame : ' + str(self.frame), xy=(10, 40), color='white')\n",
    "            plt.annotate('action: ' + str(action), xy=(10, 50), color='white')\n",
    "            \n",
    "        if not self.save:\n",
    "            display.display(plt.gcf())\n",
    "            display.clear_output(wait=True)\n",
    "        else:\n",
    "            if not os.path.exists('dqn/frames/'):\n",
    "                os.makedirs('dqn/frames')\n",
    "            plt.savefig('dqn/frames/{}.png'.format(self.frame))\n",
    "        \n",
    "class AtariProcessor(Processor):      \n",
    "    def process_observation(self, observation):\n",
    "        # Normally, the observation is passed directly to the NN,\n",
    "        # but we override this behavior to follow preprocessing steps\n",
    "        img = observation \n",
    "        img = img[::2, ::2] # downscale\n",
    "        img = np.mean(img, axis=2).astype(np.uint8) # grayscale\n",
    "        return img"
   ]
  },
  {
   "cell_type": "code",
   "execution_count": 12,
   "metadata": {},
   "outputs": [],
   "source": [
    "env = gym.make('BreakoutDeterministic-v4') # try out different envs\n",
    "env.reset()\n",
    "\n",
    "np.random.seed(123)\n",
    "env.seed(123)\n",
    "nb_actions = env.action_space.n"
   ]
  },
  {
   "cell_type": "code",
   "execution_count": 15,
   "metadata": {},
   "outputs": [],
   "source": [
    "with open('dqn/model_architecture.json') as f:\n",
    "    model = model_from_json(f.read())\n",
    "    \n",
    "model.load_weights('dqn/weights.hdf5')\n",
    "optimizer = optimizer=keras.optimizers.RMSprop(lr=0.00025, rho=0.95, epsilon=0.01)"
   ]
  },
  {
   "cell_type": "code",
   "execution_count": 16,
   "metadata": {},
   "outputs": [],
   "source": [
    "memory = SequentialMemory(limit=100000, window_length=4)\n",
    "policy = LinearAnnealedPolicy(EpsGreedyQPolicy(), 'eps', 1., 0.1, 0.05, 100000)\n",
    "dqn = DQNAgent(model=model, processor=AtariProcessor(), nb_actions=nb_actions, \n",
    "               memory=memory, nb_steps_warmup=50, target_model_update=1e-2, policy=policy, test_policy=policy)\n",
    "dqn.compile(optimizer, metrics=['mse'])"
   ]
  },
  {
   "cell_type": "code",
   "execution_count": 24,
   "metadata": {},
   "outputs": [
    {
     "name": "stdout",
     "output_type": "stream",
     "text": [
      "Testing for 1 episodes ...\n",
      "Episode 1: reward: 29.000, steps: 156\n"
     ]
    },
    {
     "data": {
      "image/png": "[encoded data removed]",
      "text/plain": [
       "<Figure size 432x288 with 1 Axes>"
      ]
     },
     "metadata": {
      "needs_background": "light"
     },
     "output_type": "display_data"
    },
    {
     "data": {
      "image/png": "[encoded data removed]",
      "text/plain": [
       "<Figure size 720x720 with 1 Axes>"
      ]
     },
     "metadata": {
      "needs_background": "light"
     },
     "output_type": "display_data"
    }
   ],
   "source": [
    "callbacks = []\n",
    "callbacks = [Visualizer(save=True)]\n",
    "\n",
    "test_hist = dqn.test(env, nb_episodes=1, action_repetition=4,\n",
    "                     callbacks=callbacks, visualize=False)"
   ]
  },
  {
   "cell_type": "code",
   "execution_count": null,
   "metadata": {},
   "outputs": [],
   "source": []
  }
 ],
 "metadata": {
  "kernelspec": {
   "display_name": "Python 3",
   "language": "python",
   "name": "python3"
  },
  "language_info": {
   "codemirror_mode": {
    "name": "ipython",
    "version": 3
   },
   "file_extension": ".py",
   "mimetype": "text/x-python",
   "name": "python",
   "nbconvert_exporter": "python",
   "pygments_lexer": "ipython3",
   "version": "3.6.5"
  }
 },
 "nbformat": 4,
 "nbformat_minor": 2
}
